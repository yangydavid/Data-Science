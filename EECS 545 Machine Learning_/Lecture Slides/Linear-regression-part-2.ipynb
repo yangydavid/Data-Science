{
 "cells": [
  {
   "cell_type": "markdown",
   "metadata": {
    "slideshow": {
     "slide_type": "skip"
    }
   },
   "source": [
    "$$ \\LaTeX \\text{ command declarations here.}\n",
    "\\newcommand{\\R}{\\mathbb{R}}\n",
    "\\renewcommand{\\vec}[1]{\\mathbf{#1}}\n",
    "$$"
   ]
  },
  {
   "cell_type": "code",
   "execution_count": 1,
   "metadata": {
    "slideshow": {
     "slide_type": "skip"
    }
   },
   "outputs": [
    {
     "ename": "ModuleNotFoundError",
     "evalue": "No module named 'Lec05'",
     "output_type": "error",
     "traceback": [
      "\u001b[1;31m---------------------------------------------------------------------------\u001b[0m",
      "\u001b[1;31mModuleNotFoundError\u001b[0m                       Traceback (most recent call last)",
      "\u001b[1;32m<ipython-input-1-c350b4ca01fa>\u001b[0m in \u001b[0;36m<module>\u001b[1;34m()\u001b[0m\n\u001b[0;32m      1\u001b[0m \u001b[0mget_ipython\u001b[0m\u001b[1;33m(\u001b[0m\u001b[1;33m)\u001b[0m\u001b[1;33m.\u001b[0m\u001b[0mmagic\u001b[0m\u001b[1;33m(\u001b[0m\u001b[1;34m'matplotlib inline'\u001b[0m\u001b[1;33m)\u001b[0m\u001b[1;33m\u001b[0m\u001b[0m\n\u001b[1;32m----> 2\u001b[1;33m \u001b[1;32mfrom\u001b[0m \u001b[0mLec05\u001b[0m \u001b[1;32mimport\u001b[0m \u001b[1;33m*\u001b[0m\u001b[1;33m\u001b[0m\u001b[0m\n\u001b[0m",
      "\u001b[1;31mModuleNotFoundError\u001b[0m: No module named 'Lec05'"
     ]
    }
   ],
   "source": [
    "%matplotlib inline\n",
    "from Lec05 import *"
   ]
  },
  {
   "cell_type": "markdown",
   "metadata": {
    "slideshow": {
     "slide_type": "slide"
    }
   },
   "source": [
    "# EECS 545:  Machine Learning\n",
    "## Lecture 2a:  Linear Regression II\n",
    "* Instructor:  **Satinder Singh**\n",
    "* Date:  January 22, 2015\n",
    "\n"
   ]
  },
  {
   "cell_type": "markdown",
   "metadata": {
    "slideshow": {
     "slide_type": "slide"
    }
   },
   "source": [
    "## Outline for this Lecture\n",
    "- Overfitting\n",
    "- Regularized Least Squares\n",
    "- Locally-Weighted Linear Regression\n",
    "- Maximum Likelihood Interpretation of Linear Regression\n",
    "\n",
    "\n",
    "## Reading List\n",
    "- Required:    \n",
    "    - **[PRML]**, §3.2: The Bias-Variance Decomposition\n",
    "    - **[PRML]**, §3.3: Bayesian Linear Regression\n"
   ]
  },
  {
   "cell_type": "markdown",
   "metadata": {
    "slideshow": {
     "slide_type": "skip"
    }
   },
   "source": [
    "> In this lecture, we will first look at how degree of linear regression and sample dataset size will cause *overfitting* in linear regression. To deal with overfitting, *regularized least squares* will be introduced. When predicting the label of a new observation in linear regression, if we want to rely more on nearby traing data than distant training data, we will resort to *locally-weighted linear regression*. Finally, we will show regular linear regression and regularized linear regression can be interpreted from probablistic perspective each using *maximum likelihood estimation* and *maximum a posteriori estimation*."
   ]
  },
  {
   "cell_type": "markdown",
   "metadata": {
    "slideshow": {
     "slide_type": "slide"
    }
   },
   "source": [
    "## Overfitting"
   ]
  },
  {
   "cell_type": "markdown",
   "metadata": {
    "slideshow": {
     "slide_type": "slide"
    }
   },
   "source": [
    "### Overfitting: Degree of Linear Regression"
   ]
  },
  {
   "cell_type": "code",
   "execution_count": null,
   "metadata": {
    "slideshow": {
     "slide_type": "-"
    }
   },
   "outputs": [],
   "source": [
    "regression_overfitting_degree(degree0=0, degree1=3,degree2=9,degree3=12)"
   ]
  },
  {
   "cell_type": "markdown",
   "metadata": {
    "slideshow": {
     "slide_type": "skip"
    }
   },
   "source": [
    "> **Remark**\n",
    ">    - In the above plots, we try to predict the true sinusoidal curve hidden in the data with polynomial degrees 0, 3, 9 and 12.\n",
    ">    - In the first plot (degree=0), we only get a horizontal line. The learned curve can neither fit the training data nor match true curve. This is called **Underfitting**.\n",
    ">    - In the second plot (degree=3), the predicted plot fits both data and true curve perfectly. This is a good degree for our setting.\n",
    ">    - In the third (degree=9) and fourth (degree=12) plots, as the degree increases, the traning data are fitted better but the learned curve deviates from the true curve further. This is called **Overfitting**.\n",
    ">    - Explanations of why degree could impact the predicted curve will come in the **Remark** later."
   ]
  },
  {
   "cell_type": "markdown",
   "metadata": {
    "slideshow": {
     "slide_type": "slide"
    }
   },
   "source": [
    "### Overfitting: Dataset Size"
   ]
  },
  {
   "cell_type": "code",
   "execution_count": null,
   "metadata": {
    "scrolled": false,
    "slideshow": {
     "slide_type": "-"
    }
   },
   "outputs": [],
   "source": [
    "regression_overfitting_datasetsize(size0 = 13, size1 = 50, size2 = 100, size3 = 500)"
   ]
  },
  {
   "cell_type": "markdown",
   "metadata": {
    "slideshow": {
     "slide_type": "skip"
    }
   },
   "source": [
    "> **Remark**\n",
    ">   - In the above plots, we try to predict the true sinusoidal curve hidden in the data with polynomial degree 12 and training dataset size 13, 50, 100 and 500.\n",
    ">   - In the first plot (size=13), **overfitting** occurs as we have seen just now.\n",
    ">   - Comparing the four plots altogether, we could see as the size increases, overfitting diminishes. And although more and more data points cannot be fitted by the learned curve (training error is becoming higher), but it matches the true curve better (test error will be smaller).\n",
    ">   - Explanations of why training data size impact the predicted curve will come in the **Remark** later."
   ]
  },
  {
   "cell_type": "markdown",
   "metadata": {
    "slideshow": {
     "slide_type": "slide"
    }
   },
   "source": [
    "### Overfitting: Overall Performance\n",
    "\n",
    "* On the left plot, we fix the dataset size and vary the polynomial degree\n",
    "* On the right plot, we fix the polynomial degree and vary the dataset size"
   ]
  },
  {
   "cell_type": "code",
   "execution_count": null,
   "metadata": {
    "scrolled": true,
    "slideshow": {
     "slide_type": "-"
    }
   },
   "outputs": [],
   "source": [
    "regression_overfitting_curve()"
   ]
  },
  {
   "cell_type": "markdown",
   "metadata": {
    "slideshow": {
     "slide_type": "skip"
    }
   },
   "source": [
    "> **Remark**\n",
    ">   - The plot below is the **root mean squared error (RMSE)** of training dataset and test dataset with respect to different degree and dataset size. \n",
    ">   - NOTE: For simplicity of presentation, we divided the dataset into training set and test set. However, it's not legitimate to find the optimal hyperparameter based on the test set. We will talk about legitimate ways of doing this when we cover model selection and cross-validation.\n",
    ">   - Combining the last 10 plots, we could have:\n",
    ">   - **Degree**\n",
    ">       - When degree is really small, the regressor is not powerful enough (i.e. degree is small) to learn the underlying true model. At this time, underfitting occurs. Both training error and test error are high.\n",
    ">       - As degree increases, regressor become more powerful enough to roughly learn the true model but not that powerful to also take the noise into considerations. At this time, underfitting reduces. Both training error and test error will be smaller. \n",
    ">       - As degree further increases, regressor become so powerful that it could fit most of the data in training dataset perfectly. And since the data are noisy, the learned model actually deviates from the true model. At this time, overfitting occurs. Training error could becomes very small (even 0 sometimes), while test error increases. \n",
    ">   - **Dataset Size**\n",
    ">       - When training dataset size is small, a powerful regressor (i.e. degree is high) can fit every single sample in training dataset. Therefore, noise is also considered. This is equivalent to the ending zone of the plot (left) with respect degree.\n",
    ">       - As training dataset size increases, since the power of regressor is finite (degree is fixed), regressor starts to fail to fit every single sample. Instead it seeks to learn a curve such that samples will fall on both sides equally. Since the noise are assumed to 0 mean Gaussian noise which is symmetric with respect to 0, this is actually close to the underlying true curve.\n",
    ">       - The training error and test error will converge to 0.3 which is the variance of noise (you could check this by examining the Python code). This is not a coincidence and can be derived. We will cover this later when we study **bias-variance tradeoff**\n",
    ">   - $$\\text{RMSE} = \\sqrt{\\frac{1}{N} \\sum_{n=1}^{N} (y_n-t_n)^2}$$"
   ]
  },
  {
   "cell_type": "markdown",
   "metadata": {
    "slideshow": {
     "slide_type": "slide"
    }
   },
   "source": [
    "### Rule of Thumb to Choose the Degree\n",
    "- For a small number of datapoints, use a low degree\n",
    "    - Otherwise, the model will overfit!\n",
    "- As you obtain more data, you can gradually increase the degree\n",
    "    - Add more features to represent more data\n",
    "    - **Warning:**  Your model is still limited by the finite amount of data available.  The optimal model for finite data cannot be an infinite-dimensional polynomial!)\n",
    "- Use **regularization** to control model complexity."
   ]
  },
  {
   "cell_type": "markdown",
   "metadata": {
    "slideshow": {
     "slide_type": "slide"
    }
   },
   "source": [
    "## Regularized Linear Regression"
   ]
  },
  {
   "cell_type": "markdown",
   "metadata": {
    "slideshow": {
     "slide_type": "slide"
    }
   },
   "source": [
    "### Coefficients of Overfitting\n",
    "\n",
    "- Before we move to regularized linear regression, let's first look at what happened to the coefficients $\\vec{w}$ when there is overfitting."
   ]
  },
  {
   "cell_type": "code",
   "execution_count": null,
   "metadata": {
    "slideshow": {
     "slide_type": "-"
    }
   },
   "outputs": [],
   "source": [
    "regression_overfitting_coeffs()"
   ]
  },
  {
   "cell_type": "markdown",
   "metadata": {
    "slideshow": {
     "slide_type": "skip"
    }
   },
   "source": [
    "> **Remark**\n",
    ">    - The table above corresponds to the coefficients (multiplied by 100 for better visualization) for different degrees.\n",
    ">    - We could see that when overfitting occurs, we get some really crazy and large numbers!\n",
    ">    - So one intuition to handle overfitting is to *penalize* large coefficients."
   ]
  },
  {
   "cell_type": "markdown",
   "metadata": {
    "slideshow": {
     "slide_type": "slide"
    }
   },
   "source": [
    "### Regularized Least Squares: Objective Function\n",
    "\n",
    "- Recall the objective function we minimizes in last lecture is \n",
    "$$\n",
    "E(\\vec{w}) = \\frac12 \\sum_{n=1}^N \\left( \\vec{w}^T \\phi(\\vec{x}_n) - t_n \\right)^2\n",
    "$$\n",
    "\n",
    "- To penalize the large coefficients, we will add one penalization/regularization term to it and minimize them altogether.\n",
    "$$\n",
    "E(\\vec{w}) = \\underbrace{ \\frac12 \\sum_{n=1}^N \\left( \\vec{w}^T \\phi(\\vec{x}_n) - t_n \\right)^2 }_{E_D(\\vec{w})}+ \\underbrace{\\boxed{\\frac{\\lambda}{2} \\left \\| \\vec{w} \\right \\|^2}}_{E_W(\\vec{w})}\n",
    "$$\n",
    "of which $E_D(\\vec{w})$ represents the term of sum of squared errors and $E_W(\\vec{w})$ is the regularization term.\n",
    "\n",
    "- $\\lambda$ is the regularization coefficient. \n",
    "- If $\\lambda$ is large, $E_{\\vec{W}}(\\vec{w})$ will dominate the objective function. As a result we will focus more on minimizing $E_W(\\vec{w})$ and the resulting solution $\\vec{w}$ tends to have smaller norm and the $E_D(\\vec{w})$ term will be larger."
   ]
  },
  {
   "cell_type": "markdown",
   "metadata": {
    "slideshow": {
     "slide_type": "slide"
    }
   },
   "source": [
    "### Regularized Least Squares: Derivation\n",
    "- Based on what we have derived in last lecture, we could write the objective function as\n",
    "$$\n",
    "\\begin{align}\n",
    "E(\\vec{w}) \n",
    "&= \\frac12 \\sum_{n=1}^N \\left( \\vec{w}^T \\phi(\\vec{x}_n) - t_n \\right)^2 + \\frac{\\lambda}{2} \\left \\| \\vec{w} \\right \\|^2 \\\\\n",
    "&= \\frac12 \\vec{w}^T \\Phi^T \\Phi \\vec{w} - \\vec{t}^T \\Phi \\vec{w} + \\frac12 \\vec{t}^T \\vec{t} + \\frac{\\lambda}{2}\\vec{w}^T\\vec{w}\n",
    "\\end{align}\n",
    "$$\n",
    "\n",
    "- The gradient is\n",
    "$$\n",
    "\\begin{align}\n",
    "\\nabla_\\vec{w} E(\\vec{w}) \n",
    "&= \\Phi^T \\Phi \\vec{w} - \\Phi^T \\vec{t} + \\lambda \\vec{w}\\\\\n",
    "&= (\\Phi^T \\Phi + \\lambda I)\\vec{w} - \\Phi^T \\vec{t}\n",
    "\\end{align}\n",
    "$$\n",
    "\n",
    "- Setting the gradient to 0, we will get the solution\n",
    "$$\n",
    "\\boxed{ \\hat{\\vec{w}}=(\\Phi^T \\Phi + \\lambda I)^{-1} \\Phi^T \\vec{t} }\n",
    "$$\n",
    "\n",
    "- In the solution to ordinary least squares which is $\\hat{\\vec{w} }=(\\Phi^T \\Phi)^{-1} \\Phi^T \\vec{t}$, we cannot guarantee $\\Phi^T \\Phi$ is invertible. But in regularized least squares, if $\\lambda > 0$, $\\Phi^T \\Phi + \\lambda I$ is always invertible."
   ]
  },
  {
   "cell_type": "markdown",
   "metadata": {
    "slideshow": {
     "slide_type": "skip"
    }
   },
   "source": [
    "### Regularized Least Squares:  Different Norms\n",
    "- The $\\ell^p$ norm of a vector $\\vec{x}$ is defined as\n",
    "$$\n",
    "\\left \\| \\vec{x} \\right \\|_p = (\\sum_{j=1}^{M} |x_j|^p)^\\frac{1}{p}\n",
    "$$\n",
    "\n",
    "- For the regularized least squares above, we used $\\ell^2$ norm. We could also use other $\\ell^p$ norms for different regularizers and the objective function becomes\n",
    "$$\n",
    "E(\\vec{w}) = \\frac12 \\sum_{n=1}^N \\left( \\vec{w}^T \\phi(\\vec{x}_n) - t_n \\right)^2 + \\frac{\\lambda}{2} \\left \\| \\vec{w} \\right \\|_p^p\n",
    "$$\n",
    "<center> <img src=\"images/p-norms.png\"  style=\"width:604px;height:228px;\"> </center>\n",
    "<center><span style=\"font-size:12px\">(Contour of Different p-norms)</span></center>"
   ]
  },
  {
   "cell_type": "markdown",
   "metadata": {
    "slideshow": {
     "slide_type": "skip"
    }
   },
   "source": [
    "- **Lasso** regularization ($\\ell^1$ regularization) tends to generate sparser solutions than **ridge** regression ($\\ell^2$ regularization)\n",
    "<center> <img src=\"images/lasso-vs-ridge.png\"  style=\"width:700px;height:450px;\"> </center>\n",
    "<div align=\"right\"><span style=\"color:gray; font-size:10px\">(Image taken from [here](http://gerardnico.com/wiki/data_mining/lasso))</span></div>"
   ]
  },
  {
   "cell_type": "markdown",
   "metadata": {
    "slideshow": {
     "slide_type": "skip"
    }
   },
   "source": [
    "> **Remark**\n",
    ">    - RSS is residual of sum of squares, which is the sum of squared errors $E_D(\\vec{w})$ we use.\n",
    ">    - This plot is to illustrate intuitively why lasso has sparser solution than ridge regression.\n",
    ">    - Our objective function is \n",
    "$$\n",
    "E(\\vec{w}) = \\frac12 \\sum_{n=1}^N \\left( \\vec{w}^T \\phi(\\vec{x}_n) - t_n \\right)^2 + \\frac{\\lambda}{2} \\left \\| \\vec{w} \\right \\|_p^p\n",
    "$$\n",
    "To illustrate, lets look at an *equivalent* constrained problem. (Not exactly equivalent, just for illustration purpose)\n",
    "$$\n",
    "\\begin{aligned}\n",
    "& {\\text{minimize}} &  & \\frac12 \\sum_{n=1}^N \\left( \\vec{w}^T \\phi(\\vec{x}_n) - t_n \\right)^2\\\\\n",
    "& \\text{subject to} &  & \\frac{\\lambda}{2} \\left \\| \\vec{w} \\right \\|_p^p \\leq C\n",
    "\\end{aligned}\n",
    "$$\n",
    ">    - The objective function $\\frac12 \\sum_{n=1}^N \\left( \\vec{w}^T \\phi(\\vec{x}_n) - t_n \\right)^2$ is the red contours in the plots. The optimal solution without the constraint is $\\hat{\\vec{w}}_{OLS}$, which is just the solution to ordinary least squares. The farther we are away from $\\hat{\\vec{w}}_{OLS}$ the larger objective function will be.\n",
    ">    - The feasible area that satisfying the constraint is the cyan area in the plots. The solution must fall in these areas. For lasso, it's a diamond; for ridge regression, it's a circle.\n",
    ">    - As we increase the value of objective function, the contour will expand. The first time the contour *touch* the feasible cyan area, the touching point would be the optimal solution. This is because our solution should both be as close to $\\hat{\\vec{w}}_{OLS}$ as possible and fall in the feasible area.\n",
    ">    - Since lasso has diamond area with four corners, the contours tend to touch the corner first. And since the corner is on the axis where coordinate has at least one zero component, this guarantees the sparsity of solution. On the contrary, the circle area in ridge regression cannot give us this property."
   ]
  },
  {
   "cell_type": "markdown",
   "metadata": {
    "slideshow": {
     "slide_type": "slide"
    }
   },
   "source": [
    "### Regularized Least Squares: Example"
   ]
  },
  {
   "cell_type": "code",
   "execution_count": null,
   "metadata": {
    "scrolled": false,
    "slideshow": {
     "slide_type": "-"
    }
   },
   "outputs": [],
   "source": [
    "regression_regularization_plot()"
   ]
  },
  {
   "cell_type": "markdown",
   "metadata": {
    "slideshow": {
     "slide_type": "skip"
    }
   },
   "source": [
    "> **Remark**\n",
    ">    - In the second plot, we can see that after the regularization term is added, the learned curve looks much more like the true curve than the learnd curve without regularization in the first plot.\n",
    ">    - However, in the third plot, when the coefficient $\\lambda$ for regularization is too large, the minimization will mostly focus on minimizing $\\left \\| \\vec{w} \\right \\|$, thus deviating from the true curve in a great deal. (We will see the coefficients $\\vec{w}$) are really small for this case in next slide)\n",
    ">    - In the fourth plot, as we increase $\\lambda$, the training error is monotonically increasing because we are far away from the task of minimizing sum of squared error $E_D(\\vec{w})$. As for the the test error, it has minimum value near $\\lambda=1$, which is the blancing point in the tradeoff between minimizing $E_D(\\vec{w})$ and minimizing regularization term $E_W(\\vec{w})$."
   ]
  },
  {
   "cell_type": "markdown",
   "metadata": {
    "slideshow": {
     "slide_type": "slide"
    }
   },
   "source": [
    "### Regularized Least Squares: Coefficients\n",
    "- Let's look at how the coefficients change after we add regularization"
   ]
  },
  {
   "cell_type": "code",
   "execution_count": null,
   "metadata": {
    "slideshow": {
     "slide_type": "-"
    }
   },
   "outputs": [],
   "source": [
    "regression_regularization_coeff()"
   ]
  },
  {
   "cell_type": "markdown",
   "metadata": {
    "slideshow": {
     "slide_type": "skip"
    }
   },
   "source": [
    "> **Remark**\n",
    ">    - From the table above, we can see the regularization term has effectively constrained those huge coefficients.\n",
    ">    - However, when $\\lambda$ is large ($\\lambda = e^{10}$), the coefficients are \"over-regularized\"."
   ]
  },
  {
   "cell_type": "markdown",
   "metadata": {
    "slideshow": {
     "slide_type": "slide"
    }
   },
   "source": [
    "### Regularized Least Squares:  Summary\n",
    "\n",
    "- Simple modification of linear regression\n",
    "- $\\ell^2$ Regularization controls the tradeoff between *fitting error* and *complexity*.\n",
    "    - Small $\\ell^2$ regularization results in complex models, but with risk of overfitting\n",
    "    - Large $\\ell^2$ regularization results in simple models, but with risk of underfitting\n",
    "- It is important to find an optimal regularization that *balances* between the two"
   ]
  },
  {
   "cell_type": "markdown",
   "metadata": {
    "slideshow": {
     "slide_type": "slide"
    }
   },
   "source": [
    "## Locally-Weighted Linear Regression"
   ]
  },
  {
   "cell_type": "markdown",
   "metadata": {
    "slideshow": {
     "slide_type": "slide"
    }
   },
   "source": [
    "### Locally-Weighted Linear Regression\n",
    "\n",
    "- **Main Idea:** Given a new observation $\\vec{x}$, we generate the coefficients $\\vec{w}$ and prediction $y(\\vec{x}, \\vec{w})$ by giving high weights for *neighbours* of $\\vec{x}$.\n",
    "\n",
    "- ** Regular vs. Locally-Weighted Linear Regression**\n",
    "\n",
    "**Linear Regression**\n",
    "<div style=\"border: 1px solid black; display: block; padding: 15px; margin: 10px 0\">\n",
    "1. Fit $\\vec{w}$ to minimize $\\sum_{n} (\\vec{w}^T \\phi(\\vec{x}_n) - t_n )^2$ of which $\\{(\\vec{x}_n, t_n)\\}_{n=1}^N$ is the training dataset.\n",
    "<br>\n",
    "2. For every new observation $\\vec{x}$ to be predicted, output $\\vec{w}^T \\phi(x)$\n",
    "<br>\n",
    "**Note**: **One** $\\vec{w}$ for **all** observations to be predicted.\n",
    "</div>\n",
    "\n",
    "**Locally-weighted Linear Regression**\n",
    "<div style=\"border: 1px solid black; display: block; padding: 15px; margin: 10px 0\">\n",
    "1. For **every** new observation $\\vec{x}$ to be predicted, generate the weights $r_n$ for every training sample $(\\vec{x}_n, t_n)$. (The closer $\\vec{x}_n$ is to $\\vec{x}$, the larger $r_n$ will be)\n",
    "<br>\n",
    "2. Fit $\\vec{w}$ to minimize $\\sum_{n} r_n (\\vec{w}^T \\phi(\\vec{x}_n) - t_n )^2$ of which $\\{(\\vec{x}_n, t_n)\\}_{n=1}^N$ is the training dataset.\n",
    "<br>\n",
    "3. Output $\\vec{w}^T \\phi(x)$\n",
    "<br>\n",
    "**Note**: **One** $\\vec{w}$ for **only one** observations to be predicted.\n",
    "</div>"
   ]
  },
  {
   "cell_type": "markdown",
   "metadata": {
    "slideshow": {
     "slide_type": "skip"
    }
   },
   "source": [
    "### Regular vs. Locally-Weighted Linear Regression\n",
    "\n",
    "<center><img src=\"images/lwlr-comparison.png\"></center>\n",
    "\n",
    "- For linear regression with **degree=1**, the learned curve for regular linear regression is a **straight line** while the learned curve for locally-weighted linear regression is a **curve**. For queries/observations with different features (x-axis value), the weights $\\vec{r}$ are different thus the solution $\\hat{\\vec{w}}$ are also different. For 1-degree regression, $\\hat{\\vec{w}}$ correspond to the interception and slope of learned curve, so the slope for locally-weighted linear regression is always changing and what we get cannot be a straight line."
   ]
  },
  {
   "cell_type": "markdown",
   "metadata": {
    "slideshow": {
     "slide_type": "slide"
    }
   },
   "source": [
    "### Locally-Weighted Linear Regression: Weights\n",
    "\n",
    "- The standard choice for weights $\\vec{r}$ uses the **Gaussian Kernel**, with **kernel width** $\\tau$\n",
    "    $$\n",
    "    r_n = \\exp\\left( -\\frac{|| \\vec{x}_n - \\vec{x} ||^2}{2\\tau^2} \\right)\n",
    "    $$\n",
    "\n",
    "- Choice of kernel width matters.\n",
    "<center> <img src=\"images/lwlr-kernel-width.png\"  style=\"width:604px;height:228px;\"> </center>\n",
    "- The bell shape is the weight curve, which has maximum at the query point $\\vec{x}$ and decreases as we move farther.\n",
    "- The best kernel includes as many training points as can be accomodated by the model.  Too large a kernel includes points that degrade the fit; too small a kernel neglects points that increase confidence in the fit."
   ]
  },
  {
   "cell_type": "markdown",
   "metadata": {
    "slideshow": {
     "slide_type": "skip"
    }
   },
   "source": [
    "> **Remark**\n",
    ">    - Note weight $\\vec{r}$ and resulting $\\hat{\\vec{w}}$ depend on $\\vec{x}$ (query point); we must solve linear regression for each query point $\\vec{x}$.\n",
    ">    - Can be reformulated as a modified version of least squares problem.\n",
    ">    - The best kernel width requires hyperparameter tuning"
   ]
  },
  {
   "cell_type": "markdown",
   "metadata": {
    "slideshow": {
     "slide_type": "slide"
    }
   },
   "source": [
    "### Locally-Weighted Linear Regression: Derivation\n",
    "- Recall that in regular linear regression, we have\n",
    "    $$E(\\vec{w}) = \\sum_{n=1}^N \\left( \\vec{w}^T \\phi(\\vec{x}_n) - t_n \\right)^2 = \\left \\| \\Phi \\vec{w}-\\vec{t} \\right \\|^2$$\n",
    "\n",
    "- In locally-weighted linear regression, we are to minimize\n",
    "    $$E(\\vec{w}) = \\sum_{n=1}^{N} r_n (\\vec{w}^T \\phi(\\vec{x}_n) - t_n )^2 = \\sum_{n=1}^{N} (\\sqrt{r_n} \\vec{w}^T \\phi(\\vec{x}_n) - \\sqrt{r_n} t_n )^2 = \\left \\| \\sqrt{R} \\Phi \\vec{w}- \\sqrt{R} \\vec{t} \\right \\|^2 $$\n",
    "    of which \n",
    "    $$R = \\begin{bmatrix}\n",
    "    r_1 &  &  & \\\\ \n",
    "     & r_2 &  & \\\\ \n",
    "     &  & \\ddots  & \\\\ \n",
    "     &  &  & r_N\n",
    "    \\end{bmatrix}\n",
    "    $$\n",
    "    \n",
    "- Recall the solution to $\\ \\arg \\min \\left \\| \\Phi \\vec{w}-\\vec{t} \\right \\|^2 \\ $  is $\\ \\Phi^\\dagger \\vec{t} \\ $. Similarly, the solution to $\\ \\arg \\min \\left \\| \\sqrt{R} \\Phi \\vec{w}- \\sqrt{R} \\vec{t} \\right \\|^2 \\ $ is \n",
    "    $$\n",
    "    \\boxed{\\hat{\\vec{w}} = (\\sqrt{R} \\Phi)^\\dagger \\sqrt{R} \\vec{t}}\n",
    "    $$"
   ]
  },
  {
   "cell_type": "markdown",
   "metadata": {
    "slideshow": {
     "slide_type": "skip"
    }
   },
   "source": [
    "> ** Remark **\n",
    "> - When $\\sqrt(R)\\Phi$ has linearly independent columns, the solution can be written as\n",
    "    $$\n",
    "    \\boxed{\\hat{\\vec{w}} = (\\Phi^T R \\Phi)^{-1} \\Phi R \\vec{t}}\n",
    "    $$\n",
    "    *Recall when $A$ has linearly independent columns, $A^\\dagger = (A^T A)^{-1} A^T$*\n",
    "> - We omitted $\\frac12$ in the above $E(\\vec{w})$ because it will not affect the solution $\\vec{w}$. We add $\\frac12$ in last lecture because it can cancel out the coefficient 2 generated by differentiating the quadratic expression."
   ]
  },
  {
   "cell_type": "markdown",
   "metadata": {
    "slideshow": {
     "slide_type": "slide"
    }
   },
   "source": [
    "## Probablistic Interpretation of Least Squares Regression\n",
    "- We have showed derived the solution to least squares regression by minimizing objective function. Now we will provide a probablistic perspective. Specifically, we will show the solution to **regular least squares** is just the **maximum likelihood** estimate of $\\vec{w}$ and the solution to **regularized least squares** is the **Maximum a Posteriori** estimate. "
   ]
  },
  {
   "cell_type": "markdown",
   "metadata": {
    "collapsed": true,
    "slideshow": {
     "slide_type": "slide"
    }
   },
   "source": [
    "### Some Background\n",
    "- Gaussian Distribution\n",
    "$$ \n",
    "\\mathcal{N}(x, \\mu, \\sigma^2) = \\frac{1}{\\sqrt{2\\pi\\sigma^2}} \\exp\\left[ \\frac{(x-\\mu)^2}{2\\sigma^2} \\right]\n",
    "$$\n",
    "\n",
    "- **Maximum Likelihood Estimation** and **Maximum a Posteriori Estimation (MAP)**\n",
    "    - For distribution $t \\sim p(t|\\theta)$. $\\theta$ is some unknown parameter (like mean or variance) to be estimated.\n",
    "    - Given observation $\\vec{t} = (t_1, t_2, \\dots, t_N)$, \n",
    "        - The Maximum Likelihood Estimator is\n",
    "        $$\n",
    "        \\theta_{ML} = \\arg \\max \\prod_{n=1}^N p(t_n | \\theta)\n",
    "        $$\n",
    "        - If we have some prior knowledge about $\\theta$, the MAP estimator is \n",
    "        $$\n",
    "        \\theta_{MAP} = \\arg \\max \\prod_{n=1}^N p(\\theta | t_n) \\quad (\\text{Posteriori Probability of } \\theta)\n",
    "        $$        "
   ]
  },
  {
   "cell_type": "markdown",
   "metadata": {
    "slideshow": {
     "slide_type": "slide"
    }
   },
   "source": [
    "### Maximum Likelihood Estimator $\\vec{w}_{ML}$\n",
    "\n",
    "- We assume the **signal+noise** model of single data $(\\vec{x}, t)$ is\n",
    "    $$\n",
    "    \\begin{gather}\n",
    "    t = \\vec{w}^T \\phi(\\vec{x}) + \\epsilon \\\\ \n",
    "    \\epsilon \\sim \\mathcal{N}(0, \\beta^{-1})\n",
    "    \\end{gather}\n",
    "    $$\n",
    "    of which $\\vec{w}^T \\phi(\\vec{x})$ is the true model, $\\epsilon$ is the perturbation/randomness.\n",
    "\n",
    "- Since $\\vec{w}^T \\phi(\\vec{x})$ is deterministic/non-random, we have\n",
    "    $$\n",
    "    t \\sim \\mathcal{N}(\\vec{w}^T \\phi(\\vec{x}), \\beta^{-1})\n",
    "    $$\n",
    "    \n",
    "- The **likelihood function** of $t$ is just **probability density function (PDF)** of $t$\n",
    "    $$\n",
    "    p(t|\\vec{x},\\vec{w},\\beta) = \\mathcal{N}(t|\\vec{w}^T \\phi(\\vec{x}),\\beta^{-1})\n",
    "    $$\n",
    "    \n",
    "- For inputs $\\mathcal{X}=(\\vec{x}_1, \\dots, \\vec{x}_n)$ and target values $\\vec{t}=(t_1,\\dots,t_n)$, the data likelihood is\n",
    "    $$\n",
    "    p(\\vec{t}|\\mathcal{X},\\vec{w},\\beta)\n",
    "    = \\prod_{n=1}^N p(t_n|\\vec{x}_n,\\vec{w},\\beta)\n",
    "    = \\prod_{n=1}^N \\mathcal{N}(t_n|\\vec{w}^T\\phi(\\vec{x}_n),\\beta^{-1})\n",
    "    $$\n",
    "    \n",
    "- **Notation Clarification** \n",
    "    - $p(t|x,w,\\beta)$ it the PDF of $t$ whose distribution is parameterized by $x,\\vec{w},\\beta$. \n",
    "    - $\\mathcal{N}(\\vec{w}^T \\phi(\\vec{x}), \\beta^{-1})$ is Gaussian distribution with **mean** $\\vec{w}^T \\phi(\\vec{x})$ and **variance** $\\beta^{-1}$.\n",
    "    - $\\mathcal{N}(t|\\vec{w}^T \\phi(\\vec{x}),\\beta^{-1})$ is the PDF of $\\vec{t}$ which has Gaussian distribution $\\mathcal{N}(\\vec{w}^T \\phi(\\vec{x}), \\beta^{-1})$"
   ]
  },
  {
   "cell_type": "markdown",
   "metadata": {
    "slideshow": {
     "slide_type": "slide"
    }
   },
   "source": [
    "### Maximum Likelihood Estimator $\\vec{w}_{ML}$\n",
    "- **Main Idea of Maximum Likelihood Estimate** \n",
    "    - Given $\\{ \\vec{x}_n, t_n \\}_{n=1}^N$, we want to find $\\vec{w}_{ML}$ that maximizes data likelihood function\n",
    "        $$\n",
    "        \\vec{w}_{ML}\n",
    "        =\\arg \\max p(\\vec{t}|\\mathcal{X},\\vec{w},\\beta)\n",
    "        =\\arg \\max \\prod_{n=1}^N \\mathcal{N}(t_n|\\vec{w}^T\\phi(\\vec{x}_n),\\beta^{-1})\n",
    "        $$\n",
    "        and by derivation we will show $\\vec{w}_{ML}$ is equivalent to the least squares solution $\\hat{\\vec{w}} = \\Phi^\\dagger \\vec{t}$.\n",
    "\n",
    "- **Intuition about Maximum Likelihood Estimation**\n",
    "    - Finding maximum likelihood estimate $\\vec{w}_{ML} = \\arg \\max p(\\vec{t}|\\mathcal{X},\\vec{w},\\beta)$ is just finding the parameter $\\vec{w}$ under which for data $\\mathcal{X}=(\\vec{x}_1, \\dots, \\vec{x}_n)$, observed $\\vec{t}=(t_1,\\dots,t_n)$ is the most likely result to be generated among all possible $\\vec{t}$."
   ]
  },
  {
   "cell_type": "markdown",
   "metadata": {
    "slideshow": {
     "slide_type": "slide"
    }
   },
   "source": [
    "### Maximum Likelihood Estimator $\\vec{w}_{ML}$: Derivation\n",
    "- Single data likelihood is\n",
    "    $$\n",
    "    p(t_n|\\vec{x}_n,\\vec{w},\\beta) \n",
    "    = \\mathcal{N}(t_n|\\vec{w}^T\\phi(\\vec{x}_n),\\beta^{-1})\n",
    "    = \\frac{1}{\\sqrt{2 \\pi \\beta^{-1}}} \\exp \\left \\{ - \\frac{1}{2 \\beta^{-1}} (t_n - \\vec{w}^T \\phi(x_n))^2 \\right \\}\n",
    "    $$\n",
    "\n",
    "- Single data log-likelihood is \n",
    "    $$\n",
    "    \\ln p(t_n|\\vec{x}_n,\\vec{w},\\beta) = - \\frac12 \\ln 2 \\pi \\beta^{-1} - \\frac{\\beta}{2} (\\vec{w}^T \\phi(x_n) - t_n)^2\n",
    "    $$\n",
    "    We use logarithm because maximizer of $f(x)$ is the same as maximizer of $\\log f(x)$. Logarithm can convert product to summation which makes life easier.\n",
    "\n",
    "- Complete data log-likelohood is\n",
    "    $$\n",
    "    \\begin{align}\n",
    "    \\ln p(\\vec{t}|\\mathcal{X},\\vec{w},\\beta) \n",
    "    &= \\ln \\left[ \\prod_{n=1}^N p(t_n|\\vec{x}_n,\\vec{w},\\beta) \\right] = \\sum_{n=1}^N \\ln p(t_n|\\vec{x}_n,\\vec{w},\\beta) \\\\\n",
    "    &= \\sum_{n=1}^N \\left[ - \\frac12 \\ln 2 \\pi \\beta^{-1} - \\frac{\\beta}{2} (\\vec{w}^T \\phi(x_n) - t_n)^2 \\right]\n",
    "    \\end{align}\n",
    "    $$\n"
   ]
  },
  {
   "cell_type": "markdown",
   "metadata": {
    "slideshow": {
     "slide_type": "slide"
    }
   },
   "source": [
    "- Maximum likelihood estimate $\\vec{w}_{ML}$ is\n",
    "    $$\n",
    "    \\begin{align}\n",
    "    \\vec{w}_{ML} \n",
    "    &= \\underset{\\vec{w}}{\\arg \\max} \\ln p(\\vec{t}|\\mathcal{X},\\vec{w},\\beta) \\\\\n",
    "    &= \\underset{\\vec{w}}{\\arg \\max}  \\sum_{n=1}^N \\left[ - \\frac12 \\ln 2 \\pi \\beta^{-1} - \\frac{\\beta}{2} (\\vec{w}^T \\phi(x_n) - t_n)^2 \\right] \\\\\n",
    "    &= \\underset{\\vec{w}}{\\arg \\max}  \\sum_{n=1}^N \\left[ - \\frac{\\beta}{2} (\\vec{w}^T \\phi(x_n) - t_n)^2 \\right] \\\\\n",
    "    &= \\underset{\\vec{w}}{\\arg \\min}  \\sum_{n=1}^N \\left[(\\vec{w}^T \\phi(x_n) - t_n)^2 \\right]\n",
    "    \\end{align}\n",
    "    $$\n",
    "\n",
    "- Familiar? Recall the objective function we minimized in least squares is $E(\\vec{w}) = \\frac12 \\sum_{n=1}^N \\left( \\vec{w}^T \\phi(\\vec{x}_n) - t_n \\right)^2$, so we could conclude that\n",
    "    $$\n",
    "    \\boxed{\\vec{w}_{ML}  = \\hat{\\vec{w}}_{LS} = \\Phi^\\dagger \\vec{t}}\n",
    "    $$"
   ]
  },
  {
   "cell_type": "markdown",
   "metadata": {
    "slideshow": {
     "slide_type": "slide"
    }
   },
   "source": [
    "### MAP Estimator $\\vec{w}_{MAP}$\n",
    "- The **MAP estimator** is obtained by\n",
    "    $$\n",
    "    \\begin{align}\n",
    "    \\vec{w}_{MAP} \n",
    "    &= \\arg \\max p(\\vec{w}|\\vec{t}, \\mathcal{X},\\beta) & & (\\text{Posteriori Probability})\\\\\n",
    "    &= \\arg \\max \\frac{p(\\vec{w}, \\vec{t}, \\mathcal{X},\\beta)}{p(\\mathcal{X}, t, \\beta)} \\\\\n",
    "    &= \\arg \\max \\frac{p(\\vec{t}|\\vec{w}, \\mathcal{X},\\beta) p(\\vec{w}, \\mathcal{X}, \\beta)}{p(\\mathcal{X}, t, \\beta)} \\\\\n",
    "    &= \\arg \\max p(\\vec{t}|\\vec{w}, \\mathcal{X},\\beta) p(\\vec{w}, \\mathcal{X}, \\beta) & & (p(X, t, \\beta) \\text{ is irrelevant to} \\ \\vec{w})\\\\\n",
    "    &= \\arg \\max p(\\vec{t}|\\vec{w}, \\mathcal{X},\\beta) p(\\vec{w}) p(\\mathcal{X}) p(\\beta) & & (\\text{Independence}) \\\\\n",
    "    &= \\arg \\max p(\\vec{t}|\\vec{w}, \\mathcal{X},\\beta) p(\\vec{w}) & & (\\text{Likelihood} \\times \\text{Prior})\n",
    "    \\end{align}\n",
    "    $$\n",
    "    We are just using **Bayes Theorem** for the above steps.\n",
    "- The only difference from ML estimator is we have an extra term of PDF of $\\vec{w}$. This is the **prior belief** of $\\vec{w}$. Here, we assume, \n",
    "    $$\n",
    "    \\vec{w} \\sim \\mathcal{N}(\\vec{0}, \\alpha^{-1}I) \n",
    "    $$"
   ]
  },
  {
   "cell_type": "markdown",
   "metadata": {
    "slideshow": {
     "slide_type": "slide"
    }
   },
   "source": [
    "- ML vs. MAP\n",
    "    - Maximum Likelihood: We know **nothing** about $\\vec{w}$ initially and every $\\vec{w}$ are equally likelihood\n",
    "    - Maximum a Posteriori: We know **something** about about $\\vec{w}$ initially and certain $\\vec{w}$ are more likely (depending on **prior** $p(\\vec{w})$). In another way, $\\vec{w}$ are weighted.\n",
    "- Assumption $\\vec{w} \\sim \\mathcal{N}(\\vec{0}, \\alpha^{-1}I)$ makes sense because\n",
    "    - In **regularized least squares**\n",
    "        - We already know large coefficient $\\vec{w}$ that may lead to overfitting should be avoided. \n",
    "        - When we increase the regularization coefficient $\\lambda$, the smaller $\\left \\| \\vec{w} \\right \\|$ will be.\n",
    "    - When use $\\vec{w} \\sim \\mathcal{N}(\\vec{0}, \\alpha^{-1}I)$\n",
    "        - $\\vec{w} \\sim \\mathcal{N}(\\vec{0}, \\alpha^{-1}I)$ encodes the assumption that $\\vec{w}$ with a smaller norm $\\left \\| \\vec{w} \\right \\|$ is more \"likely\" than a $\\vec{w}$ with a bigger norm.\n",
    "        - When we increase $\\alpha$, variance is smaller, small $\\left \\| \\vec{w} \\right \\|$ will be much more likely\n",
    "        "
   ]
  },
  {
   "cell_type": "markdown",
   "metadata": {
    "slideshow": {
     "slide_type": "slide"
    }
   },
   "source": [
    "### MAP Estimator $\\vec{w}_{MAP}$: Derivation\n",
    "- $\\vec{w} \\sim \\mathcal{N}(\\vec{0}, \\alpha^{-1}I)$ is **multivariate Gaussian** which has PDF\n",
    "    $$\n",
    "    p(\\vec{w}) = \\frac{1}{\\left( \\sqrt{2 \\pi \\alpha^{-1}} \\right)^N} \\exp \\left \\{ -\\frac{1}{2 \\alpha^{-1}} \\sum_{n=1}^N w_n^2 \\right \\}\n",
    "    $$\n",
    "\n",
    "- So the MAP estimator is \n",
    "    $$\n",
    "    \\begin{align}\n",
    "     \\vec{w}_{MAP} \n",
    "     &= \\underset{\\vec{w}}{\\arg \\max} \\ p(\\vec{t}|\\vec{w}, \\mathcal{X},\\beta) p(\\vec{w}) = \\underset{\\vec{w}}{\\arg \\max} \\left[\\ln p(\\vec{t}|\\vec{w}, \\mathcal{X},\\beta) + \\ln p(\\vec{w}) \\right] \\\\\n",
    "     &= \\underset{\\vec{w}}{\\arg \\min} \\left[ \\sum_{n=1}^N \\frac{\\beta}{2} (\\vec{w}^T \\phi(x_n) - t_n)^2  +  \\frac{\\alpha}{2} \\sum_{n=1}^N w_n^2 \\right] \\\\\n",
    "     &= \\underset{\\vec{w}}{\\arg \\min} \\left[ \\sum_{n=1}^N \\frac12 (\\vec{w}^T \\phi(x_n) - t_n)^2  +  \\frac12 \\frac{\\alpha}{\\beta} \\left \\| \\vec{w} \\right \\|^2 \\right]\n",
    "    \\end{align}\n",
    "    $$\n",
    "    \n",
    "- Exactly the objective in regularized least squares! So\n",
    "$$\n",
    "\\boxed{ \\vec{w}_{MAP} = \\hat{\\vec{w}}=\\left(\\Phi^T \\Phi + \\frac{\\alpha}{\\beta} I\\right)^{-1} \\Phi^T \\vec{t} }\n",
    "$$"
   ]
  },
  {
   "cell_type": "markdown",
   "metadata": {
    "slideshow": {
     "slide_type": "skip"
    }
   },
   "source": [
    "> ** Remark **\n",
    ">    - Of the above expression, $\\frac{\\alpha}{\\beta}$ corresponds to the regularization coefficient $\\lambda$ we used in previous regulazied least squares.\n",
    ">    - **Priors**: Represent prior beliefs about acceptable values for model parameters.\n",
    ">    - Example: In linear regression, $\\ell^2$ regularization can be interpreted as placing a Gaussian Prior on the regression coefficients.\n",
    ">    - All statistical models and machine learning algorithms make assumptions.\n",
    ">        - All reasoning is based on implicit assumptions.\n",
    ">        - A Bayesian will tell you that his prior is a way of explicitly stating those assumptions.\n",
    ">    - This can all get very philosophical, but...\n",
    ">        - Bayesian reasoning is best seen as a useful tool.\n",
    ">        - Many concepts in machine learning have Bayesian interpretations. \n",
    ">            - Choice of loss / error function, regularization, etc.\n",
    ">    - For a fully Bayesian take on machine learning, check out the **Murphy** textbook:\n",
    "<center> <img src=\"images/murphy.jpg\"  style=\"width:180px;height:228px;\"> </center>\n",
    ">    - We will cover more about Bayesian reasoning when we move to **Bayesian Linear Regression**, a linear regression that is used for streaming data."
   ]
  }
 ],
 "metadata": {
  "kernelspec": {
   "display_name": "Python 3",
   "language": "python",
   "name": "python3"
  },
  "language_info": {
   "codemirror_mode": {
    "name": "ipython",
    "version": 3
   },
   "file_extension": ".py",
   "mimetype": "text/x-python",
   "name": "python",
   "nbconvert_exporter": "python",
   "pygments_lexer": "ipython3",
   "version": "3.6.3"
  }
 },
 "nbformat": 4,
 "nbformat_minor": 1
}
